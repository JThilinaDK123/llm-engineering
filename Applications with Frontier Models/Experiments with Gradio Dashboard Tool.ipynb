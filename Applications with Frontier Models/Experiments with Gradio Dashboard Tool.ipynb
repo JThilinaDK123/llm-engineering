{
 "cells": [
  {
   "cell_type": "code",
   "execution_count": 1,
   "id": "66429627-729e-4cec-b1f8-0de16b52b225",
   "metadata": {},
   "outputs": [],
   "source": [
    "import os\n",
    "from dotenv import load_dotenv\n",
    "from openai import OpenAI\n",
    "import anthropic\n",
    "from IPython.display import Markdown, display, update_display\n",
    "import gradio as gr"
   ]
  },
  {
   "cell_type": "code",
   "execution_count": 2,
   "id": "2f7a94b7-1968-4449-8073-e0a6e88d2e0c",
   "metadata": {},
   "outputs": [
    {
     "name": "stdout",
     "output_type": "stream",
     "text": [
      "OpenAI API Key exists and begins sk-proj-\n",
      "Anthropic API Key exists and begins sk-ant-\n"
     ]
    }
   ],
   "source": [
    "load_dotenv(override=True)\n",
    "openai_api_key = os.getenv('OPENAI_API_KEY')\n",
    "anthropic_api_key = os.getenv('ANTHROPIC_API_KEY')\n",
    "\n",
    "if openai_api_key:\n",
    "    print(f\"OpenAI API Key exists and begins {openai_api_key[:8]}\")\n",
    "else:\n",
    "    print(\"OpenAI API Key not set\")\n",
    "    \n",
    "if anthropic_api_key:\n",
    "    print(f\"Anthropic API Key exists and begins {anthropic_api_key[:7]}\")\n",
    "else:\n",
    "    print(\"Anthropic API Key not set\")"
   ]
  },
  {
   "cell_type": "markdown",
   "id": "102c174d-8a6d-4396-b074-8bb61bc79a3d",
   "metadata": {},
   "source": [
    "### Load all the LLM model API's"
   ]
  },
  {
   "cell_type": "code",
   "execution_count": 3,
   "id": "3358a54c-f8da-4b4f-8e51-2ec3b146276d",
   "metadata": {},
   "outputs": [],
   "source": [
    "openai = OpenAI()\n",
    "claude = anthropic.Anthropic()"
   ]
  },
  {
   "cell_type": "markdown",
   "id": "c617c6ba-b0fe-466d-b8e5-1d72d698ab5c",
   "metadata": {},
   "source": [
    "### GPT Model - Without Streaming"
   ]
  },
  {
   "cell_type": "code",
   "execution_count": 22,
   "id": "8cc6afa1-7f60-4479-b0a8-6f7be1413a33",
   "metadata": {},
   "outputs": [],
   "source": [
    "system_message = \"Your are assistant that answer for a given question\"\n",
    "\n",
    "def user_prompt(question):\n",
    "    user_message = f\"This is the question: {question}\"\n",
    "    return user_message"
   ]
  },
  {
   "cell_type": "code",
   "execution_count": 23,
   "id": "1d97fe47-55e2-4f9f-b825-a2a7e3cd0663",
   "metadata": {},
   "outputs": [],
   "source": [
    "def gpt_chatbot_without_streaming(question):\n",
    "    # question = input(\"Add your question here: \")\n",
    "    completion = openai.chat.completions.create(\n",
    "        model = 'gpt-4.1-mini',\n",
    "        messages=[\n",
    "            {\"role\": \"system\", \"content\": system_message},\n",
    "            {\"role\": \"user\", \"content\": user_prompt(question)}\n",
    "        ],\n",
    "    )\n",
    "    \n",
    "    return completion.choices[0].message.content"
   ]
  },
  {
   "cell_type": "code",
   "execution_count": 24,
   "id": "a543bc48-1f5c-4ae0-bde1-9c5ce07157e7",
   "metadata": {},
   "outputs": [
    {
     "name": "stdout",
     "output_type": "stream",
     "text": [
      "* Running on local URL:  http://127.0.0.1:7866\n",
      "* To create a public link, set `share=True` in `launch()`.\n"
     ]
    },
    {
     "data": {
      "text/html": [
       "<div><iframe src=\"http://127.0.0.1:7866/\" width=\"100%\" height=\"500\" allow=\"autoplay; camera; microphone; clipboard-read; clipboard-write;\" frameborder=\"0\" allowfullscreen></iframe></div>"
      ],
      "text/plain": [
       "<IPython.core.display.HTML object>"
      ]
     },
     "metadata": {},
     "output_type": "display_data"
    },
    {
     "data": {
      "text/plain": []
     },
     "execution_count": 24,
     "metadata": {},
     "output_type": "execute_result"
    }
   ],
   "source": [
    "gr.Interface(fn = gpt_chatbot_without_streaming, \n",
    "             inputs = [gr.Textbox(label=\"Your message:\", lines = 6)],\n",
    "             outputs = [gr.Textbox(label=\"The Answer:\", lines = 8)],\n",
    "             flagging_mode = \"never\").launch()"
   ]
  },
  {
   "cell_type": "markdown",
   "id": "54e300f8-5e75-4f4f-934c-71a77782b1a6",
   "metadata": {},
   "source": [
    "### GPT Model - With Streaming"
   ]
  },
  {
   "cell_type": "code",
   "execution_count": 27,
   "id": "3ebe6b7e-481d-439c-8e2b-16acb7a0c9f1",
   "metadata": {},
   "outputs": [],
   "source": [
    "def gpt_chatbot_with_streaming(question):\n",
    "    # question = input(\"Add your question here: \")\n",
    "    stream = openai.chat.completions.create(\n",
    "        model = 'gpt-4.1-mini',\n",
    "        messages=[\n",
    "            {\"role\": \"system\", \"content\": system_message},\n",
    "            {\"role\": \"user\", \"content\": user_prompt(question)}\n",
    "        ],\n",
    "        stream = True\n",
    "    )\n",
    "    \n",
    "    result = \"\"\n",
    "    for chunk in stream:\n",
    "        result += chunk.choices[0].delta.content or \"\"\n",
    "        yield result"
   ]
  },
  {
   "cell_type": "code",
   "execution_count": 29,
   "id": "8fec953c-9087-4013-aaef-1502ee11d6a2",
   "metadata": {},
   "outputs": [
    {
     "name": "stdout",
     "output_type": "stream",
     "text": [
      "* Running on local URL:  http://127.0.0.1:7872\n",
      "* To create a public link, set `share=True` in `launch()`.\n"
     ]
    },
    {
     "data": {
      "text/html": [
       "<div><iframe src=\"http://127.0.0.1:7872/\" width=\"100%\" height=\"500\" allow=\"autoplay; camera; microphone; clipboard-read; clipboard-write;\" frameborder=\"0\" allowfullscreen></iframe></div>"
      ],
      "text/plain": [
       "<IPython.core.display.HTML object>"
      ]
     },
     "metadata": {},
     "output_type": "display_data"
    },
    {
     "data": {
      "text/plain": []
     },
     "execution_count": 29,
     "metadata": {},
     "output_type": "execute_result"
    }
   ],
   "source": [
    "gr.Interface(fn = gpt_chatbot_with_streaming,\n",
    "             inputs = [gr.Textbox(label=\"Your message:\", lines = 6)],\n",
    "             outputs=[gr.Markdown(label=\"Brochure:\")],\n",
    "             flagging_mode = \"never\").launch()"
   ]
  },
  {
   "cell_type": "code",
   "execution_count": null,
   "id": "901f49d0-3233-4b80-980e-a6bc9604fba1",
   "metadata": {},
   "outputs": [],
   "source": []
  }
 ],
 "metadata": {
  "kernelspec": {
   "display_name": "Python 3 (ipykernel)",
   "language": "python",
   "name": "python3"
  },
  "language_info": {
   "codemirror_mode": {
    "name": "ipython",
    "version": 3
   },
   "file_extension": ".py",
   "mimetype": "text/x-python",
   "name": "python",
   "nbconvert_exporter": "python",
   "pygments_lexer": "ipython3",
   "version": "3.11.13"
  }
 },
 "nbformat": 4,
 "nbformat_minor": 5
}
