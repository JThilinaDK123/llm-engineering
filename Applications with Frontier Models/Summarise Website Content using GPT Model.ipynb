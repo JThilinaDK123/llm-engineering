{
 "cells": [
  {
   "cell_type": "code",
   "execution_count": 1,
   "id": "e7267fa3-8931-434e-a96c-7786cdd6e68b",
   "metadata": {},
   "outputs": [],
   "source": [
    "import os\n",
    "import requests\n",
    "from dotenv import load_dotenv\n",
    "from bs4 import BeautifulSoup\n",
    "from IPython.display import Markdown, display\n",
    "from openai import OpenAI\n",
    "\n",
    "from selenium import webdriver\n",
    "from selenium.webdriver.chrome.service import Service\n",
    "from selenium.webdriver.common.by import By\n",
    "from bs4 import BeautifulSoup\n",
    "import time"
   ]
  },
  {
   "cell_type": "code",
   "execution_count": 2,
   "id": "04bcee48-f055-41c3-b6ce-fc55a41b42fa",
   "metadata": {},
   "outputs": [
    {
     "name": "stdout",
     "output_type": "stream",
     "text": [
      "API key found and looks good so far!\n"
     ]
    }
   ],
   "source": [
    "load_dotenv(override=True)\n",
    "api_key = os.getenv('OPENAI_API_KEY')\n",
    "\n",
    "## Check the key\n",
    "\n",
    "if not api_key:\n",
    "    print(\"No API key was found - please head over to the troubleshooting notebook in this folder to identify & fix!\")\n",
    "elif not api_key.startswith(\"sk-proj-\"):\n",
    "    print(\"An API key was found, but it doesn't start sk-proj-; please check you're using the right key - see troubleshooting notebook\")\n",
    "elif api_key.strip() != api_key:\n",
    "    print(\"An API key was found, but it looks like it might have space or tab characters at the start or end - please remove them - see troubleshooting notebook\")\n",
    "else:\n",
    "    print(\"API key found and looks good so far!\")"
   ]
  },
  {
   "cell_type": "code",
   "execution_count": 3,
   "id": "802560a2-d103-40c8-abc4-e7bc14f3f139",
   "metadata": {},
   "outputs": [],
   "source": [
    "openai = OpenAI()"
   ]
  },
  {
   "cell_type": "markdown",
   "id": "09b84638-f545-4afd-a569-7be03d882026",
   "metadata": {},
   "source": [
    "### Web scraping "
   ]
  },
  {
   "cell_type": "code",
   "execution_count": 4,
   "id": "c71ec7ef-a445-4518-8290-de9911e439a8",
   "metadata": {},
   "outputs": [],
   "source": [
    "def scrape_website(url):\n",
    "\n",
    "    options = webdriver.ChromeOptions()\n",
    "    options.add_argument(\"--headless\")  \n",
    "    options.add_argument(\"--no-sandbox\")\n",
    "    options.add_argument(\"--disable-dev-shm-usage\")\n",
    "\n",
    "    driver = webdriver.Chrome(service=Service(), options=options)\n",
    "    driver.get(url)\n",
    "\n",
    "    time.sleep(2)\n",
    "\n",
    "    soup = BeautifulSoup(driver.page_source, \"html.parser\")\n",
    "    title = soup.title.string if soup.title else \"No title found\"\n",
    "\n",
    "    for irrelevant in soup([\"script\", \"style\", \"img\", \"input\"]):\n",
    "        irrelevant.decompose()\n",
    "\n",
    "    text = soup.get_text(separator=\"\\n\", strip=True)\n",
    "\n",
    "    driver.quit()\n",
    "    return title, text"
   ]
  },
  {
   "cell_type": "markdown",
   "id": "10c7f781-eea3-4a68-8c29-9ee680db9a8d",
   "metadata": {},
   "source": [
    "### Type of Prompts"
   ]
  },
  {
   "cell_type": "code",
   "execution_count": 5,
   "id": "591a979d-c9a3-435b-9c04-dc637c5dbad9",
   "metadata": {},
   "outputs": [],
   "source": [
    "system_prompt = \"You are an assistant that analyzes the contents of a website \\\n",
    "and provides a short summary, ignoring text that might be navigation related. \\\n",
    "Respond in markdown.\""
   ]
  },
  {
   "cell_type": "code",
   "execution_count": 6,
   "id": "833f0117-4a85-4a70-8273-b078da5028da",
   "metadata": {},
   "outputs": [],
   "source": [
    "def user_prompt_for(url):\n",
    "    title, text = scrape_website(url)\n",
    "    user_prompt = f\"You are looking at a website titled {title}\"\n",
    "    user_prompt += \"\\nThe contents of this website is as follows; \\\n",
    "please provide a short summary of this website in markdown. \\\n",
    "If it includes news or announcements, then summarize these too.\\n\\n\"\n",
    "    user_prompt += text\n",
    "    return user_prompt"
   ]
  },
  {
   "cell_type": "code",
   "execution_count": 7,
   "id": "3a3fdb1d-94d8-4711-9826-fddc46ed7928",
   "metadata": {},
   "outputs": [],
   "source": [
    "def messages_for(url):\n",
    "    return [\n",
    "        {\"role\": \"system\", \"content\": system_prompt},\n",
    "        {\"role\": \"user\", \"content\": user_prompt_for(url)}\n",
    "    ]"
   ]
  },
  {
   "cell_type": "code",
   "execution_count": 8,
   "id": "728af4f9-4c6d-404e-bf8e-4d8d43104de0",
   "metadata": {},
   "outputs": [],
   "source": [
    "def summarize(url):\n",
    "    response = openai.chat.completions.create(\n",
    "        model = \"gpt-4o-mini\",\n",
    "        messages = messages_for(url)\n",
    "    )\n",
    "    return response.choices[0].message.content"
   ]
  },
  {
   "cell_type": "code",
   "execution_count": 9,
   "id": "e5a22e26-f17d-48c8-9db5-402c4c6810d3",
   "metadata": {},
   "outputs": [],
   "source": [
    "def display_summary(url):\n",
    "    summary = summarize(url)\n",
    "    display(Markdown(summary))"
   ]
  },
  {
   "cell_type": "code",
   "execution_count": 10,
   "id": "25cedd24-9081-4baf-8f8e-da8fb1d19870",
   "metadata": {},
   "outputs": [
    {
     "data": {
      "text/markdown": [
       "# CNN Website Summary\n",
       "\n",
       "The CNN website serves as a comprehensive source of breaking news and video content, covering a wide range of topics including U.S. and world news, politics, business, health, entertainment, style, travel, sports, science, and climate. \n",
       "\n",
       "## Recent News Highlights\n",
       "\n",
       "- **Ukraine-Russia War**: A prominent Ukrainian politician was shot dead in the western city of Ukraine. Meanwhile, Ukraine has reportedly struck significant bridges in Russia.\n",
       "  \n",
       "- **Israel-Hamas Conflict**: Israel is halting airdrops ahead of a planned offensive in Gaza City as the Red Cross calls for a mass evacuation, deemed \"impossible\" by many.\n",
       "\n",
       "- **Indonesia Protests**: Protests in Indonesia have escalated, leading to violence and destruction in various locations, including the burning of a parliament building.\n",
       "\n",
       "- **Global Events**: Leaders such as Putin and Modi are attending a significant China-led summit, amid discussions on reshaping global relations.\n",
       "\n",
       "- **Health News**: Recent studies indicate that a common heart attack medication may be ineffective and could increase the risk of death for some women. \n",
       "\n",
       "- **US Politics**: The Trump administration faces legal challenges, including a federal appeals court ruling that found some of Trump's tariffs unlawful, and concerns regarding migrant deportations.\n",
       "\n",
       "- **Entertainment**: The 2025 Venice Film Festival has generated buzz, alongside highlights from the U.S. Open featuring star players like Novak Djokovic.\n",
       "\n",
       "Overall, CNN aims to keep readers informed with timely updates on major global and local issues, along with in-depth analysis and engaging multimedia content."
      ],
      "text/plain": [
       "<IPython.core.display.Markdown object>"
      ]
     },
     "metadata": {},
     "output_type": "display_data"
    }
   ],
   "source": [
    "display_summary(\"https://edition.cnn.com/\")"
   ]
  },
  {
   "cell_type": "code",
   "execution_count": null,
   "id": "9c481920-3a51-4fd5-9f51-d5e82c7e50ef",
   "metadata": {},
   "outputs": [],
   "source": []
  },
  {
   "cell_type": "code",
   "execution_count": null,
   "id": "a550f490-d125-4ff0-90b1-72a68bde75ee",
   "metadata": {},
   "outputs": [],
   "source": []
  },
  {
   "cell_type": "code",
   "execution_count": null,
   "id": "ff88812c-22e4-42e7-936f-0f2be335cfb4",
   "metadata": {},
   "outputs": [],
   "source": []
  }
 ],
 "metadata": {
  "kernelspec": {
   "display_name": "Python 3 (ipykernel)",
   "language": "python",
   "name": "python3"
  },
  "language_info": {
   "codemirror_mode": {
    "name": "ipython",
    "version": 3
   },
   "file_extension": ".py",
   "mimetype": "text/x-python",
   "name": "python",
   "nbconvert_exporter": "python",
   "pygments_lexer": "ipython3",
   "version": "3.11.13"
  }
 },
 "nbformat": 4,
 "nbformat_minor": 5
}
