{
 "cells": [
  {
   "cell_type": "code",
   "execution_count": 1,
   "id": "6523aef1-608e-484d-a5e4-2b891727562c",
   "metadata": {},
   "outputs": [],
   "source": [
    "import os\n",
    "from dotenv import load_dotenv\n",
    "from openai import OpenAI\n",
    "import anthropic\n",
    "from IPython.display import Markdown, display, update_display\n",
    "import gradio as gr"
   ]
  },
  {
   "cell_type": "code",
   "execution_count": 2,
   "id": "33648344-ac4a-4c9f-83ef-6fcefd73583d",
   "metadata": {},
   "outputs": [
    {
     "name": "stdout",
     "output_type": "stream",
     "text": [
      "OpenAI API Key exists and begins sk-proj-\n",
      "Anthropic API Key exists and begins sk-ant-\n"
     ]
    }
   ],
   "source": [
    "load_dotenv(override=True)\n",
    "openai_api_key = os.getenv('OPENAI_API_KEY')\n",
    "anthropic_api_key = os.getenv('ANTHROPIC_API_KEY')\n",
    "\n",
    "if openai_api_key:\n",
    "    print(f\"OpenAI API Key exists and begins {openai_api_key[:8]}\")\n",
    "else:\n",
    "    print(\"OpenAI API Key not set\")\n",
    "    \n",
    "if anthropic_api_key:\n",
    "    print(f\"Anthropic API Key exists and begins {anthropic_api_key[:7]}\")\n",
    "else:\n",
    "    print(\"Anthropic API Key not set\")"
   ]
  },
  {
   "cell_type": "code",
   "execution_count": 3,
   "id": "1179987c-e423-4243-91ac-7d1b00f115bd",
   "metadata": {},
   "outputs": [],
   "source": [
    "openai = OpenAI()\n",
    "claude = anthropic.Anthropic()"
   ]
  },
  {
   "cell_type": "markdown",
   "id": "20cf2be9-7aaf-4862-9423-c941b4ef6a72",
   "metadata": {},
   "source": [
    "### GPT Model"
   ]
  },
  {
   "cell_type": "code",
   "execution_count": 4,
   "id": "48f5e6fa-a2dc-41a6-9c87-665abd888bb9",
   "metadata": {},
   "outputs": [],
   "source": [
    "system_message_01 = \"Youre a assitant that answer for a given question in markdown format in more formal way\"\n",
    "system_message_02 = \"Youre a assitant that answer for a given question in markdown format in more fancy way\"\n",
    "\n",
    "def gpt_user_prompt(question):\n",
    "    user_prompt = f\"This is the question: {question}\"\n",
    "    return user_prompt"
   ]
  },
  {
   "cell_type": "code",
   "execution_count": 5,
   "id": "2a2287b1-7d95-4787-840d-3b8f2fdf5a01",
   "metadata": {},
   "outputs": [],
   "source": [
    "def gpt_model_formal_answering(question):\n",
    "\n",
    "    response = openai.chat.completions.create(\n",
    "        model = 'gpt-4.1-mini',\n",
    "        messages = [\n",
    "            {\n",
    "                \"role\": \"system\", \"content\": system_message_01,\n",
    "                \"role\": \"user\", \"content\": gpt_user_prompt(question),\n",
    "            }\n",
    "        ],\n",
    "        stream = True \n",
    "    )\n",
    "    result = \"\"\n",
    "    for chunk in response:\n",
    "        result += chunk.choices[0].delta.content or \"\"\n",
    "        yield result"
   ]
  },
  {
   "cell_type": "code",
   "execution_count": 6,
   "id": "75933375-ba3b-4f68-83f3-77e794db6b23",
   "metadata": {},
   "outputs": [],
   "source": [
    "def gpt_model_fancy_answering(question):\n",
    "\n",
    "    response = openai.chat.completions.create(\n",
    "        model = 'gpt-4.1-mini',\n",
    "        messages = [\n",
    "            {\n",
    "                \"role\": \"system\", \"content\": system_message_02,\n",
    "                \"role\": \"user\", \"content\": gpt_user_prompt(question),\n",
    "            }\n",
    "        ],\n",
    "        stream = True \n",
    "    )\n",
    "    result = \"\"\n",
    "    for chunk in response:\n",
    "        result += chunk.choices[0].delta.content or \"\"\n",
    "        yield result"
   ]
  },
  {
   "cell_type": "markdown",
   "id": "dbe7891a-113a-46ba-bce5-4ee868b89c80",
   "metadata": {},
   "source": [
    "### Claude Model"
   ]
  },
  {
   "cell_type": "code",
   "execution_count": 7,
   "id": "a607df5a-8dde-48b4-85c0-ebd9d6770a8c",
   "metadata": {},
   "outputs": [],
   "source": [
    "def claude_model_formal_answering(question):\n",
    "\n",
    "    result = claude.messages.stream(\n",
    "        model = \"claude-sonnet-4-20250514\",\n",
    "        max_tokens = 1000,\n",
    "        system = system_message_01,\n",
    "        messages = [\n",
    "            {\n",
    "                \"role\": \"user\", \"content\": gpt_user_prompt(question)\n",
    "            }\n",
    "        ],\n",
    "        temperature = 0.9\n",
    "    )\n",
    "    response = \"\"\n",
    "    with result as stream:\n",
    "        for text in stream.text_stream:\n",
    "            response += text or \"\"\n",
    "            yield response"
   ]
  },
  {
   "cell_type": "code",
   "execution_count": 8,
   "id": "ccf936b3-f181-4c0c-b9bb-909eb4d24c4c",
   "metadata": {},
   "outputs": [],
   "source": [
    "def claude_model_fancy_answering(question):\n",
    "\n",
    "    result = claude.messages.stream(\n",
    "        model = \"claude-sonnet-4-20250514\",\n",
    "        max_tokens = 1000,\n",
    "        system = system_message_02,\n",
    "        messages = [\n",
    "            {\n",
    "                \"role\": \"user\", \"content\": gpt_user_prompt(question)\n",
    "            }\n",
    "        ],\n",
    "        temperature = 0.9\n",
    "    )\n",
    "    response = \"\"\n",
    "    with result as stream:\n",
    "        for text in stream.text_stream:\n",
    "            response += text or \"\"\n",
    "            yield response"
   ]
  },
  {
   "cell_type": "markdown",
   "id": "aa1e5856-a6d5-4715-84a1-357da0427208",
   "metadata": {},
   "source": [
    "### Gradio Dashboard"
   ]
  },
  {
   "cell_type": "code",
   "execution_count": 9,
   "id": "374cfac1-62d2-4210-b061-f7c98faec4d7",
   "metadata": {},
   "outputs": [],
   "source": [
    "def final_model_flow(question, model, answer_type):\n",
    "    if (model == \"GPT\" and answer_type== \"Formal\"):\n",
    "        response = gpt_model_formal_answering(question)\n",
    "    elif (model == \"GPT\" and answer_type== \"Fancy\"):\n",
    "        response = gpt_model_fancy_answering(question)\n",
    "    elif (model == \"Claude\" and answer_type== \"Formal\"):\n",
    "        response = claude_model_formal_answering(question)\n",
    "    else:\n",
    "        response = claude_model_fancy_answering(question)\n",
    "    yield from response"
   ]
  },
  {
   "cell_type": "code",
   "execution_count": 10,
   "id": "1e744721-ba05-48f1-bcbe-a712a1ea674b",
   "metadata": {},
   "outputs": [
    {
     "name": "stdout",
     "output_type": "stream",
     "text": [
      "* Running on local URL:  http://127.0.0.1:7860\n",
      "* To create a public link, set `share=True` in `launch()`.\n"
     ]
    },
    {
     "data": {
      "text/html": [
       "<div><iframe src=\"http://127.0.0.1:7860/\" width=\"100%\" height=\"500\" allow=\"autoplay; camera; microphone; clipboard-read; clipboard-write;\" frameborder=\"0\" allowfullscreen></iframe></div>"
      ],
      "text/plain": [
       "<IPython.core.display.HTML object>"
      ]
     },
     "metadata": {},
     "output_type": "display_data"
    },
    {
     "data": {
      "text/plain": []
     },
     "execution_count": 10,
     "metadata": {},
     "output_type": "execute_result"
    }
   ],
   "source": [
    "view = gr.Interface(\n",
    "    fn=final_model_flow,\n",
    "    inputs=[\n",
    "        gr.Textbox(label=\"Your message:\"), \n",
    "        gr.Dropdown([\"GPT\", \"Claude\"], label=\"Select model\", value=\"GPT\"), \n",
    "        gr.Dropdown([\"Formal\", \"Fancy\"], label=\"Select Answer Type\", value=\"Formal\")\n",
    "    ],\n",
    "    outputs=[gr.Markdown(label=\"Response:\")],\n",
    "    flagging_mode=\"never\"\n",
    ")\n",
    "\n",
    "view.launch()"
   ]
  },
  {
   "cell_type": "code",
   "execution_count": null,
   "id": "1c53a8e5-732d-4112-a2d9-1f0734cd82c9",
   "metadata": {},
   "outputs": [],
   "source": []
  }
 ],
 "metadata": {
  "kernelspec": {
   "display_name": "Python 3 (ipykernel)",
   "language": "python",
   "name": "python3"
  },
  "language_info": {
   "codemirror_mode": {
    "name": "ipython",
    "version": 3
   },
   "file_extension": ".py",
   "mimetype": "text/x-python",
   "name": "python",
   "nbconvert_exporter": "python",
   "pygments_lexer": "ipython3",
   "version": "3.11.13"
  }
 },
 "nbformat": 4,
 "nbformat_minor": 5
}
