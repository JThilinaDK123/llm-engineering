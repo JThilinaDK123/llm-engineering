{
 "cells": [
  {
   "cell_type": "code",
   "execution_count": 1,
   "id": "8cdae803-f65d-4d07-b018-bd6360b2108f",
   "metadata": {},
   "outputs": [],
   "source": [
    "import os\n",
    "import requests\n",
    "import json\n",
    "from typing import List\n",
    "from dotenv import load_dotenv\n",
    "from bs4 import BeautifulSoup\n",
    "from IPython.display import Markdown, display, update_display\n",
    "from openai import OpenAI"
   ]
  },
  {
   "cell_type": "code",
   "execution_count": 2,
   "id": "5aad0f54-b96c-4e20-9657-a21ecadcee0c",
   "metadata": {},
   "outputs": [
    {
     "name": "stdout",
     "output_type": "stream",
     "text": [
      "API key looks good so far\n"
     ]
    }
   ],
   "source": [
    "load_dotenv(override=True)\n",
    "api_key = os.getenv('OPENAI_API_KEY')\n",
    "\n",
    "if api_key and api_key.startswith('sk-proj-') and len(api_key)>10:\n",
    "    print(\"API key looks good so far\")\n",
    "else:\n",
    "    print(\"There might be a problem with your API key? Please visit the troubleshooting notebook!\")\n",
    "    \n",
    "MODEL = 'gpt-4o-mini'\n",
    "openai = OpenAI()"
   ]
  },
  {
   "cell_type": "markdown",
   "id": "2ca94778-745b-4066-9736-1344c4c971cd",
   "metadata": {},
   "source": [
    "### Web Scraping"
   ]
  },
  {
   "cell_type": "code",
   "execution_count": 3,
   "id": "13b043cc-0984-4453-afde-0ad13e884958",
   "metadata": {},
   "outputs": [],
   "source": [
    "headers = {\n",
    " \"User-Agent\": \"Mozilla/5.0 (Windows NT 10.0; Win64; x64) AppleWebKit/537.36 (KHTML, like Gecko) Chrome/117.0.0.0 Safari/537.36\"\n",
    "}\n",
    "\n",
    "class Website:\n",
    "    \"\"\"\n",
    "    A utility class to represent a Website that we have scraped, now with links\n",
    "    \"\"\"\n",
    "\n",
    "    def __init__(self, url):\n",
    "        self.url = url\n",
    "        response = requests.get(url, headers=headers)\n",
    "        self.body = response.content\n",
    "        soup = BeautifulSoup(self.body, 'html.parser')\n",
    "        self.title = soup.title.string if soup.title else \"No title found\"\n",
    "        if soup.body:\n",
    "            for irrelevant in soup.body([\"script\", \"style\", \"img\", \"input\"]):\n",
    "                irrelevant.decompose()\n",
    "            self.text = soup.body.get_text(separator=\"\\n\", strip=True)\n",
    "        else:\n",
    "            self.text = \"\"\n",
    "        links = [link.get('href') for link in soup.find_all('a')]\n",
    "        self.links = [link for link in links if link]\n",
    "\n",
    "    def get_contents(self):\n",
    "        return f\"Webpage Title:\\n{self.title}\\nWebpage Contents:\\n{self.text}\\n\\n\""
   ]
  },
  {
   "cell_type": "markdown",
   "id": "88751a38-838e-4299-830c-d78238ad5cc7",
   "metadata": {},
   "source": [
    "### Type of Prompts"
   ]
  },
  {
   "cell_type": "markdown",
   "id": "e2a9b23f-2824-4905-a756-44ebfbc76a17",
   "metadata": {},
   "source": [
    "#### Extract the internal website links "
   ]
  },
  {
   "cell_type": "code",
   "execution_count": 4,
   "id": "1edcba24-e206-49d6-ba05-25eb20fb7b7c",
   "metadata": {},
   "outputs": [],
   "source": [
    "link_system_prompt = \"You are provided with a list of links found on a webpage. \\\n",
    "You are able to decide which of the links would be most relevant to include in a brochure about the company, \\\n",
    "such as links to an About page, or a Company page, or Careers/Jobs pages.\\n\"\n",
    "link_system_prompt += \"You should respond in JSON as in this example:\"\n",
    "link_system_prompt += \"\"\"\n",
    "{\n",
    "    \"links\": [\n",
    "        {\"type\": \"about page\", \"url\": \"https://full.url/goes/here/about\"},\n",
    "        {\"type\": \"careers page\", \"url\": \"https://another.full.url/careers\"}\n",
    "    ]\n",
    "}\n",
    "\"\"\""
   ]
  },
  {
   "cell_type": "code",
   "execution_count": 5,
   "id": "d047dfc2-8370-41cf-b60b-3b7675927498",
   "metadata": {},
   "outputs": [],
   "source": [
    "def get_links_user_prompt(website):\n",
    "    user_prompt = f\"Here is the list of links on the website of {website.url} - \"\n",
    "    user_prompt += \"please decide which of these are relevant web links for a brochure about the company, respond with the full https URL in JSON format. \\\n",
    "Do not include Terms of Service, Privacy, email links.\\n\"\n",
    "    user_prompt += \"Links (some might be relative links):\\n\"\n",
    "    user_prompt += \"\\n\".join(website.links)\n",
    "    return user_prompt"
   ]
  },
  {
   "cell_type": "code",
   "execution_count": 6,
   "id": "9a662023-6aab-4b85-84f0-781e7791e3bd",
   "metadata": {},
   "outputs": [],
   "source": [
    "def get_links(url):\n",
    "    website = Website(url)\n",
    "    response = openai.chat.completions.create(\n",
    "        model=MODEL,\n",
    "        messages=[\n",
    "            {\"role\": \"system\", \"content\": link_system_prompt},\n",
    "            {\"role\": \"user\", \"content\": get_links_user_prompt(website)}\n",
    "      ],\n",
    "        response_format={\"type\": \"json_object\"}\n",
    "    )\n",
    "    result = response.choices[0].message.content\n",
    "    return json.loads(result)"
   ]
  },
  {
   "cell_type": "code",
   "execution_count": 7,
   "id": "db3b01fe-2193-4814-8e4b-4633c7496d16",
   "metadata": {},
   "outputs": [
    {
     "data": {
      "text/plain": [
       "{'links': [{'type': 'about page', 'url': 'https://huggingface.co/huggingface'},\n",
       "  {'type': 'careers page', 'url': 'https://apply.workable.com/huggingface/'},\n",
       "  {'type': 'company page',\n",
       "   'url': 'https://www.linkedin.com/company/huggingface/'}]}"
      ]
     },
     "execution_count": 7,
     "metadata": {},
     "output_type": "execute_result"
    }
   ],
   "source": [
    "get_links(\"https://huggingface.co\")"
   ]
  },
  {
   "cell_type": "markdown",
   "id": "54fb49c6-66eb-4e30-bc6b-68d4ee4449d1",
   "metadata": {},
   "source": [
    "#### Extract data from the external links and make the brouche"
   ]
  },
  {
   "cell_type": "code",
   "execution_count": 8,
   "id": "8be2d73b-7949-4ca1-ae00-0b0dcd9fd675",
   "metadata": {},
   "outputs": [],
   "source": [
    "def get_all_details(url):\n",
    "    result = \"Landing page:\\n\"\n",
    "    result += Website(url).get_contents()\n",
    "    links = get_links(url)\n",
    "    print(\"Found links:\", links)\n",
    "    for link in links[\"links\"]:\n",
    "        result += f\"\\n\\n{link['type']}\\n\"\n",
    "        result += Website(link[\"url\"]).get_contents()\n",
    "    return result"
   ]
  },
  {
   "cell_type": "code",
   "execution_count": 9,
   "id": "5a735a60-a97a-49a5-8961-95d54b9adfb2",
   "metadata": {},
   "outputs": [],
   "source": [
    "system_prompt = \"You are an assistant that analyzes the contents of several relevant pages from a company website \\\n",
    "and creates a short brochure about the company for prospective customers, investors and recruits. Respond in markdown.\\\n",
    "Include details of company culture, customers and careers/jobs if you have the information.\""
   ]
  },
  {
   "cell_type": "code",
   "execution_count": 10,
   "id": "d4d24817-0b41-4181-a5ea-b5f7b772b0f1",
   "metadata": {},
   "outputs": [],
   "source": [
    "def get_brochure_user_prompt(company_name, url):\n",
    "    user_prompt = f\"You are looking at a company called: {company_name}\\n\"\n",
    "    user_prompt += f\"Here are the contents of its landing page and other relevant pages; use this information to build a short brochure of the company in markdown.\\n\"\n",
    "    user_prompt += get_all_details(url)\n",
    "    user_prompt = user_prompt[:5_000] # Truncate if more than 5,000 characters\n",
    "    return user_prompt"
   ]
  },
  {
   "cell_type": "code",
   "execution_count": 11,
   "id": "f0c65d82-4931-4eec-b6f5-dde6082ecbff",
   "metadata": {},
   "outputs": [],
   "source": [
    "def stream_brochure(company_name, url):\n",
    "    stream = openai.chat.completions.create(\n",
    "        model=MODEL,\n",
    "        messages=[\n",
    "            {\"role\": \"system\", \"content\": system_prompt},\n",
    "            {\"role\": \"user\", \"content\": get_brochure_user_prompt(company_name, url)}\n",
    "          ],\n",
    "        stream=True\n",
    "    )\n",
    "    \n",
    "    response = \"\"\n",
    "    display_handle = display(Markdown(\"\"), display_id=True)\n",
    "    for chunk in stream:\n",
    "        response += chunk.choices[0].delta.content or ''\n",
    "        response = response.replace(\"```\",\"\").replace(\"markdown\", \"\")\n",
    "        update_display(Markdown(response), display_id=display_handle.display_id)"
   ]
  },
  {
   "cell_type": "markdown",
   "id": "c03e1a79-16e9-4c21-a6cf-1ca8f63e0af8",
   "metadata": {},
   "source": [
    "#### Convert final brochue into spanish"
   ]
  },
  {
   "cell_type": "code",
   "execution_count": 33,
   "id": "28bc99cb-3918-4636-ac68-e727a90aa439",
   "metadata": {},
   "outputs": [],
   "source": [
    "system_prompt_spansih = \"You are an assistant that convert brochue data into spanish language. Respond in markdown\""
   ]
  },
  {
   "cell_type": "code",
   "execution_count": 34,
   "id": "b57bf3e2-19e8-4f04-94fb-ba7d6e45d8a1",
   "metadata": {},
   "outputs": [],
   "source": [
    "def get_brochure_user_prompt_spanish(company_name, url):\n",
    "    user_prompt = f\"You are looking at a company called: {company_name}\\n\"\n",
    "    user_prompt += f\"Here are the brochue for the company; use this information to build a spanish version of the brochure of the company in markdown.\\n\"\n",
    "    user_prompt += f\"Company Brochue: {stream_brochure(company_name, url)}\\n\"\n",
    "    # user_prompt = user_prompt[:5_000] # Truncate if more than 5,000 characters\n",
    "    return user_prompt"
   ]
  },
  {
   "cell_type": "code",
   "execution_count": 35,
   "id": "cf10d328-d4e9-44c2-987c-f38681221dd2",
   "metadata": {},
   "outputs": [],
   "source": [
    "def stream_brochure_spanish(company_name, url):\n",
    "    stream = openai.chat.completions.create(\n",
    "        model=MODEL,\n",
    "        messages=[\n",
    "            {\"role\": \"system\", \"content\": system_prompt_spansih},\n",
    "            {\"role\": \"user\", \"content\": get_brochure_user_prompt_spanish(company_name, url)}\n",
    "          ],\n",
    "        stream=True\n",
    "    )\n",
    "    \n",
    "    response = \"\"\n",
    "    display_handle = display(Markdown(\"\"), display_id=True)\n",
    "    for chunk in stream:\n",
    "        response += chunk.choices[0].delta.content or ''\n",
    "        response = response.replace(\"```\",\"\").replace(\"markdown\", \"\")\n",
    "        update_display(Markdown(response), display_id=display_handle.display_id)"
   ]
  },
  {
   "cell_type": "code",
   "execution_count": 36,
   "id": "42468a41-5291-46b7-96c9-7e487b21c40d",
   "metadata": {},
   "outputs": [
    {
     "name": "stdout",
     "output_type": "stream",
     "text": [
      "Found links: {'links': [{'type': 'about page', 'url': 'https://huggingface.co/huggingface'}, {'type': 'careers page', 'url': 'https://apply.workable.com/huggingface/'}, {'type': 'enterprise page', 'url': 'https://huggingface.co/enterprise'}, {'type': 'pricing page', 'url': 'https://huggingface.co/pricing'}, {'type': 'blog', 'url': 'https://huggingface.co/blog'}, {'type': 'community forum', 'url': 'https://discuss.huggingface.co'}, {'type': 'GitHub page', 'url': 'https://github.com/huggingface'}, {'type': 'LinkedIn page', 'url': 'https://www.linkedin.com/company/huggingface/'}, {'type': 'Twitter page', 'url': 'https://twitter.com/huggingface'}]}\n"
     ]
    },
    {
     "data": {
      "text/markdown": [
       "\n",
       "# Hugging Face Brochure\n",
       "\n",
       "## Welcome to Hugging Face\n",
       "\n",
       "Hugging Face is a vibrant community at the forefront of artificial intelligence, dedicated to building the future of machine learning. Our platform is where innovators come together to collaborate on models, datasets, applications, and the latest in AI technology.\n",
       "\n",
       "---\n",
       "\n",
       "## What We Do\n",
       "\n",
       "### Collaborate and Innovate\n",
       "- **Explore AI Models:** Browse our extensive library of **1M+ models**, including cutting-edge contributions from leaders in the field such as Microsoft, AI at Meta, and Google.\n",
       "- **Datasets:** Access **250k+ datasets** tailored for various ML tasks, promoting a philosophy of open collaboration.\n",
       "- **Create and Deploy:** Utilize our **Spaces** to create applications and showcase your work, with easy deployment on **optimized GPU endpoints**.\n",
       "  \n",
       "---\n",
       "\n",
       "## Our Community\n",
       "\n",
       "Join a thriving community of **over 50,000 organizations** worldwide, including major enterprises like Amazon, Intel, and Grammarly. Our community is fueled by collaboration, shared knowledge, and an open-source ethos that empowers everyone to contribute.\n",
       "\n",
       "### Recent Trends\n",
       "Check out the trending models and applications on our platform, from video generation to synthetic data generation, all powered by state-of-the-art AI technology.\n",
       "\n",
       "---\n",
       "\n",
       "## Company Culture\n",
       "\n",
       "At Hugging Face, we believe in fostering an inclusive and innovative company culture where every voice is valued. Our team is passionate about advancing technology while prioritizing ethics and safety in AI development. We promote an environment of continuous learning and encourage our members to share their ideas and projects, embodying the collaborative spirit of our community.\n",
       "\n",
       "---\n",
       "\n",
       "## Careers at Hugging Face\n",
       "\n",
       "Join us in shaping the future of AI! We are always on the lookout for talented individuals from diverse backgrounds who are eager to contribute to this cutting-edge field. \n",
       "- **Work Perks:** Flexible working hours, opportunities for professional development, and a community-focused environment.\n",
       "- **Current Openings:** Visit our [Careers page](https://huggingface.co/jobs) to explore available positions.\n",
       "\n",
       "---\n",
       "\n",
       "## Get Started\n",
       "\n",
       "Ready to dive into the world of AI? \n",
       "- Sign up for free and start creating, discovering, and collaborating today!\n",
       "- For enterprise solutions, get in touch with us to learn more about dedicated support and resources tailored for your organization.\n",
       "\n",
       "---\n",
       "\n",
       "## Connect With Us\n",
       "\n",
       "Stay updated with the latest news, and advancements in AI:\n",
       "- Follow us on **[Twitter](https://twitter.com/huggingface)**, **[LinkedIn](https://linkedin.com/company/huggingface)**, and **[Discord](https://discord.gg/huggingface)**.\n",
       "\n",
       "Let’s build the future of machine learning together!\n",
       "\n",
       "---\n",
       "\n",
       "This brochure encapsulates the mission, offerings, community, culture, career opportunities, and connection options available at Hugging Face, designed for prospective customers, investors, and recruits."
      ],
      "text/plain": [
       "<IPython.core.display.Markdown object>"
      ]
     },
     "metadata": {},
     "output_type": "display_data"
    },
    {
     "data": {
      "text/markdown": [
       "# HuggingFace\n",
       "\n",
       "## Acerca de Nosotros\n",
       "\n",
       "HuggingFace es una empresa líder en el desarrollo de inteligencia artificial y procesamiento de lenguaje natural (NLP). Nos dedicamos a construir herramientas y modelos que hacen que la IA sea accesible para todos.\n",
       "\n",
       "## Nuestra Misión\n",
       "\n",
       "Nuestra misión es democratizar la inteligencia artificial. Creemos que todos deberían poder utilizar y contribuir a la revolución de la IA. Trabajamos para crear un entorno donde los investigadores y desarrolladores puedan compartir y colaborar en proyectos innovadores.\n",
       "\n",
       "## Nuestros Productos\n",
       "\n",
       "### Transformers\n",
       "Los Transformers son nuestros modelos más avanzados en el campo del NLP. Con más de 100,000 modelos pre-entrenados, tenemos una solución para cada necesidad.\n",
       "\n",
       "### Datasets\n",
       "Proporcionamos acceso a una amplia gama de conjuntos de datos, que facilitan la creación y entrenamiento de modelos de IA de alto rendimiento.\n",
       "\n",
       "### Harrington\n",
       "Nuestra herramienta de desarrollo de IA permite a las empresas construir aplicaciones personalizadas de IA de manera rápida y eficiente.\n",
       "\n",
       "## Comunidad\n",
       "\n",
       "En HuggingFace fomentamos una comunidad activa donde los desarrolladores, investigadores y entusiastas pueden intercambiar ideas, colaborar y aprender unos de otros. Ofrecemos múltiples recursos, tutoriales y foros para facilitar el aprendizaje.\n",
       "\n",
       "## Conectar con Nosotros\n",
       "\n",
       "¡Únete a la revolución de la IA con HuggingFace! Conéctate con nosotros en:\n",
       "\n",
       "- [Twitter](https://twitter.com/huggingface)\n",
       "- [GitHub](https://github.com/huggingface)\n",
       "- [Website](https://huggingface.co)\n",
       "\n",
       "---\n",
       "\n",
       "¡Descubre cómo HuggingFace puede ayudarte a transformar tus ideas en realidad!"
      ],
      "text/plain": [
       "<IPython.core.display.Markdown object>"
      ]
     },
     "metadata": {},
     "output_type": "display_data"
    }
   ],
   "source": [
    "stream_brochure_spanish(\"HuggingFace\", \"https://huggingface.co\")"
   ]
  },
  {
   "cell_type": "code",
   "execution_count": null,
   "id": "09a91cac-42c4-4daa-840f-b017ba73da6b",
   "metadata": {},
   "outputs": [],
   "source": []
  }
 ],
 "metadata": {
  "kernelspec": {
   "display_name": "Python 3 (ipykernel)",
   "language": "python",
   "name": "python3"
  },
  "language_info": {
   "codemirror_mode": {
    "name": "ipython",
    "version": 3
   },
   "file_extension": ".py",
   "mimetype": "text/x-python",
   "name": "python",
   "nbconvert_exporter": "python",
   "pygments_lexer": "ipython3",
   "version": "3.11.13"
  }
 },
 "nbformat": 4,
 "nbformat_minor": 5
}
