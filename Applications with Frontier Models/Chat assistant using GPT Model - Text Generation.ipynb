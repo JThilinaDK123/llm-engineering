{
 "cells": [
  {
   "cell_type": "code",
   "execution_count": 1,
   "id": "21a565e5-41fa-4cc2-a18b-38bead7bc7fc",
   "metadata": {},
   "outputs": [],
   "source": [
    "import os\n",
    "import requests\n",
    "import json\n",
    "from typing import List\n",
    "from dotenv import load_dotenv\n",
    "from bs4 import BeautifulSoup\n",
    "from IPython.display import Markdown, display, update_display\n",
    "from openai import OpenAI"
   ]
  },
  {
   "cell_type": "code",
   "execution_count": 2,
   "id": "e7754432-0aa2-436d-b8c9-3590d74390cb",
   "metadata": {},
   "outputs": [
    {
     "name": "stdout",
     "output_type": "stream",
     "text": [
      "API key looks good so far\n"
     ]
    }
   ],
   "source": [
    "load_dotenv(override=True)\n",
    "api_key = os.getenv('OPENAI_API_KEY')\n",
    "\n",
    "if api_key and api_key.startswith('sk-proj-') and len(api_key)>10:\n",
    "    print(\"API key looks good so far\")\n",
    "else:\n",
    "    print(\"There might be a problem with your API key? Please visit the troubleshooting notebook!\")\n",
    "    \n",
    "MODEL = 'gpt-4o-mini'\n",
    "openai = OpenAI()"
   ]
  },
  {
   "cell_type": "code",
   "execution_count": 3,
   "id": "5765c710-36c0-4daf-a381-6b60802255d3",
   "metadata": {},
   "outputs": [],
   "source": [
    "system_prompt = \"You are a assistant that answer the given question. Use only 200 words for the answer\"\n",
    "\n",
    "def create_the_user_prompt(question):\n",
    "    user_prompt = \"Please give a detailed explanation to the following question: \" \n",
    "    question = str(question)\n",
    "    user_prompt =  user_prompt + question\n",
    "    return user_prompt"
   ]
  },
  {
   "cell_type": "code",
   "execution_count": 4,
   "id": "e8a2d7ce-c28d-40c3-b1bd-c6de4eba159b",
   "metadata": {},
   "outputs": [],
   "source": [
    "def chatbot_application():\n",
    "    question = input(\"Add Your Question: \")\n",
    "    stream = openai.chat.completions.create(\n",
    "        model=MODEL,\n",
    "        messages=[\n",
    "            {\"role\": \"system\", \"content\": system_prompt},\n",
    "            {\"role\": \"user\", \"content\": create_the_user_prompt(question)}\n",
    "          ],\n",
    "        stream=True\n",
    "    )\n",
    "    \n",
    "    response = \"\"\n",
    "    display_handle = display(Markdown(\"\"), display_id=True)\n",
    "    for chunk in stream:\n",
    "        response += chunk.choices[0].delta.content or ''\n",
    "        response = response.replace(\"```\",\"\").replace(\"markdown\", \"\")\n",
    "        update_display(Markdown(response), display_id=display_handle.display_id)"
   ]
  },
  {
   "cell_type": "code",
   "execution_count": 5,
   "id": "4802ec2b-4b17-4fb3-9765-6f5b464c03fb",
   "metadata": {},
   "outputs": [
    {
     "name": "stdin",
     "output_type": "stream",
     "text": [
      "Add Your Question:  \"I have build a ML model that can predict weather there is a wildfire of not of a certain location. The model train with different geospatial data and it will result the wildfire status of that location. Also I make several chatbot applications and AI agents for different use cases\". This is my work. I want to make this sentence in more formal nice way as a good achievement. also highlight the geospatial analysis part as well. for an example extract data from satellite images\n"
     ]
    },
    {
     "data": {
      "text/markdown": [
       "I successfully developed a machine learning model designed to predict the presence of wildfires in specific locations. This model was meticulously trained utilizando diverse geospatial data sources, including the analysis of satellite imagery. Through advanced geospatial analysis techniques, I extracted relevant features from the images, enabling the model to assess environmental conditions that contribute to wildfire occurrence. The incorporation of these geospatial insights significantly enhanced the model's predictive accuracy, contributing to better-preparedness and response strategies for wildfire management.\n",
       "\n",
       "In addition to my work on wildfire prediction, I have also designed and implemented various chatbot applications and AI agents tailored for a wide range of use cases. These intelligent systems facilitate user interaction and enhance decision-making processes across different domains. My experience in both machine learning models and AI-driven applications underscores my commitment to leveraging technology for practical, real-world solutions. Overall, these achievements reflect my dedication to integrating advanced analytics and artificial intelligence to address pressing environmental challenges and improve service delivery across multiple sectors."
      ],
      "text/plain": [
       "<IPython.core.display.Markdown object>"
      ]
     },
     "metadata": {},
     "output_type": "display_data"
    }
   ],
   "source": [
    "chatbot_application()"
   ]
  },
  {
   "cell_type": "code",
   "execution_count": null,
   "id": "5770ee34-5152-495f-887e-b5fad2b610df",
   "metadata": {},
   "outputs": [],
   "source": []
  }
 ],
 "metadata": {
  "kernelspec": {
   "display_name": "Python 3 (ipykernel)",
   "language": "python",
   "name": "python3"
  },
  "language_info": {
   "codemirror_mode": {
    "name": "ipython",
    "version": 3
   },
   "file_extension": ".py",
   "mimetype": "text/x-python",
   "name": "python",
   "nbconvert_exporter": "python",
   "pygments_lexer": "ipython3",
   "version": "3.11.13"
  }
 },
 "nbformat": 4,
 "nbformat_minor": 5
}
