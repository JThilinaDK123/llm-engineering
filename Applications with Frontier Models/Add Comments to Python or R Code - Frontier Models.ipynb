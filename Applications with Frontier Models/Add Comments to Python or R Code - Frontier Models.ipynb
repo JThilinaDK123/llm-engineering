{
 "cells": [
  {
   "cell_type": "code",
   "execution_count": 1,
   "id": "3f4e62b2-e1f5-4122-ab07-ba674d30a978",
   "metadata": {},
   "outputs": [],
   "source": [
    "import os\n",
    "import io\n",
    "import json\n",
    "from dotenv import load_dotenv\n",
    "from openai import OpenAI\n",
    "import gradio as gr\n",
    "import anthropic\n",
    "from IPython.display import Markdown, display, update_display\n",
    "import subprocess\n",
    "import sys\n",
    "import numba\n",
    "import numpy as np"
   ]
  },
  {
   "cell_type": "code",
   "execution_count": 2,
   "id": "2f89f50f-d02d-4388-a833-bd573426d046",
   "metadata": {},
   "outputs": [
    {
     "name": "stdout",
     "output_type": "stream",
     "text": [
      "OpenAI API Key exists and begins sk-proj-\n",
      "Anthropic API Key exists and begins sk-ant-\n"
     ]
    }
   ],
   "source": [
    "load_dotenv(override=True)\n",
    "\n",
    "openai_api_key = os.getenv('OPENAI_API_KEY')\n",
    "anthropic_api_key = os.getenv('ANTHROPIC_API_KEY')\n",
    "if openai_api_key:\n",
    "    print(f\"OpenAI API Key exists and begins {openai_api_key[:8]}\")\n",
    "else:\n",
    "    print(\"OpenAI API Key not set\")\n",
    "    \n",
    "if anthropic_api_key:\n",
    "    print(f\"Anthropic API Key exists and begins {anthropic_api_key[:7]}\")\n",
    "else:\n",
    "    print(\"Anthropic API Key not set\")"
   ]
  },
  {
   "cell_type": "code",
   "execution_count": 3,
   "id": "42b73417-95a1-473c-ba1d-6e33e74c7a2f",
   "metadata": {},
   "outputs": [],
   "source": [
    "GPT_MODEL = \"gpt-4o-mini\"\n",
    "Claude_Model = \"claude-opus-4-1-20250805\"\n",
    "openai = OpenAI()\n",
    "claude = anthropic.Anthropic()"
   ]
  },
  {
   "cell_type": "code",
   "execution_count": 4,
   "id": "6146a61f-db92-4a0d-a620-d838af22ecbb",
   "metadata": {},
   "outputs": [],
   "source": [
    "system_message = \"You are an assistant that add comments to the each line of a given Python or R code\"\n",
    "system_message += \"Respond with the orginal python code without doing any changes to its coding part.\"\n",
    "system_message += \"The output shouldn't include '```python' and '```' parts\"\n",
    "system_message += \"There should be a linespace between previous code line and the comment\"\n",
    "system_message += \"Finally, the code should be in light blue colour, where comments are in italic white colour\"\n",
    "\n",
    "def user_prompt_for(code):\n",
    "    user_prompt =  \"Add comments to each line of this python code.\\n\\n\"\n",
    "    user_prompt += code\n",
    "    return user_prompt"
   ]
  },
  {
   "cell_type": "code",
   "execution_count": 5,
   "id": "97ad01b0-2e17-422f-834a-d26384d611a3",
   "metadata": {},
   "outputs": [],
   "source": [
    "def gpt_model(code):\n",
    "\n",
    "    response = openai.chat.completions.create(\n",
    "        model = GPT_MODEL,\n",
    "        messages = [\n",
    "            {\"role\": \"system\", \"content\": system_message},\n",
    "            {\"role\": \"user\", \"content\": user_prompt_for(code)}\n",
    "        ],\n",
    "        stream = True\n",
    "    )\n",
    "    reply = \"\"\n",
    "    for chunk in response:\n",
    "        fragment = chunk.choices[0].delta.content or \"\"\n",
    "        reply += fragment\n",
    "        yield reply"
   ]
  },
  {
   "cell_type": "code",
   "execution_count": 6,
   "id": "ff875496-969c-401f-a6e5-c01342cf08a9",
   "metadata": {},
   "outputs": [],
   "source": [
    "def claude_model(code):\n",
    "\n",
    "    result = claude.messages.stream(\n",
    "        model = Claude_Model,\n",
    "        max_tokens = 2000,\n",
    "        system = system_message,\n",
    "        messages = [{\"role\": \"user\", \"content\": user_prompt_for(code)}],\n",
    "    )\n",
    "    reply = \"\"\n",
    "    with result as stream:\n",
    "        for text in stream.text_stream:\n",
    "            reply += text\n",
    "            yield reply"
   ]
  },
  {
   "cell_type": "code",
   "execution_count": 7,
   "id": "36657da1-0996-41c4-b8ce-6b71d62aa53d",
   "metadata": {},
   "outputs": [],
   "source": [
    "def optimize(code, model):\n",
    "    if model == \"GPT\":\n",
    "        result = gpt_model(code)\n",
    "    elif model == \"Claude\":\n",
    "        result = claude_model(code)\n",
    "    else:\n",
    "        raise ValueError(\"Unknown model\")\n",
    "    for stream_so_far in result:\n",
    "        yield stream_so_far "
   ]
  },
  {
   "cell_type": "code",
   "execution_count": 8,
   "id": "7e8e747f-ea05-4185-bb02-3860cd695c89",
   "metadata": {},
   "outputs": [
    {
     "name": "stdout",
     "output_type": "stream",
     "text": [
      "* Running on local URL:  http://127.0.0.1:7860\n",
      "* To create a public link, set `share=True` in `launch()`.\n"
     ]
    },
    {
     "data": {
      "text/html": [
       "<div><iframe src=\"http://127.0.0.1:7860/\" width=\"100%\" height=\"500\" allow=\"autoplay; camera; microphone; clipboard-read; clipboard-write;\" frameborder=\"0\" allowfullscreen></iframe></div>"
      ],
      "text/plain": [
       "<IPython.core.display.HTML object>"
      ]
     },
     "metadata": {},
     "output_type": "display_data"
    },
    {
     "data": {
      "text/plain": []
     },
     "execution_count": 8,
     "metadata": {},
     "output_type": "execute_result"
    }
   ],
   "source": [
    "with gr.Blocks() as ui:\n",
    "    with gr.Row():\n",
    "        code = gr.Textbox(label=\"Insert your python or R code:\", lines=10)\n",
    "        code_with_comments = gr.Textbox(label=\"Code with comments:\", lines=10)\n",
    "    with gr.Row():\n",
    "        model = gr.Dropdown([\"GPT\", \"Claude\"], label=\"Select model\", value=\"GPT\")\n",
    "        convert = gr.Button(\"Add Comments to the code\")\n",
    "\n",
    "    convert.click(optimize, inputs=[code, model], outputs=[code_with_comments])\n",
    "\n",
    "ui.launch(inbrowser=True)"
   ]
  },
  {
   "cell_type": "code",
   "execution_count": null,
   "id": "e0be88b8-97f2-41ce-ae00-66e9f3da72be",
   "metadata": {},
   "outputs": [],
   "source": []
  }
 ],
 "metadata": {
  "kernelspec": {
   "display_name": "Python 3 (ipykernel)",
   "language": "python",
   "name": "python3"
  },
  "language_info": {
   "codemirror_mode": {
    "name": "ipython",
    "version": 3
   },
   "file_extension": ".py",
   "mimetype": "text/x-python",
   "name": "python",
   "nbconvert_exporter": "python",
   "pygments_lexer": "ipython3",
   "version": "3.11.13"
  }
 },
 "nbformat": 4,
 "nbformat_minor": 5
}
