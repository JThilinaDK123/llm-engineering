{
 "cells": [
  {
   "cell_type": "code",
   "execution_count": 1,
   "id": "d0b7f7a6-d2a1-4c83-bc1b-458c8eb1d445",
   "metadata": {},
   "outputs": [],
   "source": [
    "import os\n",
    "from dotenv import load_dotenv\n",
    "from openai import OpenAI\n",
    "import anthropic\n",
    "from IPython.display import Markdown, display, update_display\n",
    "import gradio as gr"
   ]
  },
  {
   "cell_type": "code",
   "execution_count": 2,
   "id": "9edd37e3-cb5c-45a7-9d99-e943cbfa8c57",
   "metadata": {},
   "outputs": [
    {
     "name": "stdout",
     "output_type": "stream",
     "text": [
      "OpenAI API Key exists and begins sk-proj-\n",
      "Anthropic API Key exists and begins sk-ant-\n"
     ]
    }
   ],
   "source": [
    "load_dotenv(override=True)\n",
    "openai_api_key = os.getenv('OPENAI_API_KEY')\n",
    "anthropic_api_key = os.getenv('ANTHROPIC_API_KEY')\n",
    "\n",
    "if openai_api_key:\n",
    "    print(f\"OpenAI API Key exists and begins {openai_api_key[:8]}\")\n",
    "else:\n",
    "    print(\"OpenAI API Key not set\")\n",
    "    \n",
    "if anthropic_api_key:\n",
    "    print(f\"Anthropic API Key exists and begins {anthropic_api_key[:7]}\")\n",
    "else:\n",
    "    print(\"Anthropic API Key not set\")"
   ]
  },
  {
   "cell_type": "code",
   "execution_count": 3,
   "id": "7b8e44a4-2833-4cb4-bdad-3c34d59880b9",
   "metadata": {},
   "outputs": [],
   "source": [
    "openai = OpenAI()\n",
    "claude = anthropic.Anthropic()"
   ]
  },
  {
   "cell_type": "markdown",
   "id": "8b522b34-32ef-49c8-b3d5-96c2abef3396",
   "metadata": {},
   "source": [
    "### GPT Model"
   ]
  },
  {
   "cell_type": "code",
   "execution_count": 4,
   "id": "ca0d5b5f-9ed3-4b94-a556-782aba9f81f2",
   "metadata": {},
   "outputs": [],
   "source": [
    "system_message = \"Your are assistant that answer for a given question\"\n",
    "\n",
    "def user_prompt(question):\n",
    "    user_message = f\"This is the question: {question}\"\n",
    "    return user_message"
   ]
  },
  {
   "cell_type": "code",
   "execution_count": 5,
   "id": "f566064d-b9ea-4d1c-aef4-1e9d50f57985",
   "metadata": {},
   "outputs": [],
   "source": [
    "def gpt_chatbot_with_streaming(question):\n",
    "    stream = openai.chat.completions.create(\n",
    "        model = 'gpt-4.1-mini',\n",
    "        messages=[\n",
    "            {\"role\": \"system\", \"content\": system_message},\n",
    "            {\"role\": \"user\", \"content\": user_prompt(question)}\n",
    "        ],\n",
    "        stream = True\n",
    "    )\n",
    "    \n",
    "    result = \"\"\n",
    "    for chunk in stream:\n",
    "        result += chunk.choices[0].delta.content or \"\"\n",
    "        yield result"
   ]
  },
  {
   "cell_type": "markdown",
   "id": "5dfd539a-866e-4105-b18b-3d6a7e0a02d4",
   "metadata": {},
   "source": [
    "### Claude Model"
   ]
  },
  {
   "cell_type": "code",
   "execution_count": 6,
   "id": "d9efc796-9e63-4118-bcf0-5d2fab3e688d",
   "metadata": {},
   "outputs": [],
   "source": [
    "def chat_bot_read_Claude(question):\n",
    "    result = claude.messages.stream(\n",
    "        model=\"claude-sonnet-4-20250514\",\n",
    "        max_tokens=1000,\n",
    "        temperature=0.7,\n",
    "        system=system_message,\n",
    "        messages=[\n",
    "            {\"role\": \"user\", \"content\": user_prompt(question)},\n",
    "        ],\n",
    "    )\n",
    "    \n",
    "    response = \"\"\n",
    "    with result as stream:\n",
    "        for text in stream.text_stream:\n",
    "            response += text or \"\"\n",
    "            yield response"
   ]
  },
  {
   "cell_type": "code",
   "execution_count": 7,
   "id": "969d22de-ff41-4e79-aea1-5e4fc02029ae",
   "metadata": {},
   "outputs": [],
   "source": [
    "def stream_model(prompt, model):\n",
    "    if model==\"GPT\":\n",
    "        result = gpt_chatbot_with_streaming(prompt)\n",
    "    elif model==\"Claude\":\n",
    "        result = chat_bot_read_Claude(prompt)\n",
    "    else:\n",
    "        raise ValueError(\"Unknown model\")\n",
    "    yield from result"
   ]
  },
  {
   "cell_type": "code",
   "execution_count": 8,
   "id": "eaf1754e-8c83-40d6-be43-b543e46be6d0",
   "metadata": {},
   "outputs": [
    {
     "name": "stdout",
     "output_type": "stream",
     "text": [
      "* Running on local URL:  http://127.0.0.1:7873\n",
      "* To create a public link, set `share=True` in `launch()`.\n"
     ]
    },
    {
     "data": {
      "text/html": [
       "<div><iframe src=\"http://127.0.0.1:7873/\" width=\"100%\" height=\"500\" allow=\"autoplay; camera; microphone; clipboard-read; clipboard-write;\" frameborder=\"0\" allowfullscreen></iframe></div>"
      ],
      "text/plain": [
       "<IPython.core.display.HTML object>"
      ]
     },
     "metadata": {},
     "output_type": "display_data"
    },
    {
     "data": {
      "text/plain": []
     },
     "execution_count": 8,
     "metadata": {},
     "output_type": "execute_result"
    }
   ],
   "source": [
    "view = gr.Interface(\n",
    "    fn = stream_model,\n",
    "    inputs = [gr.Textbox(label=\"Your message:\"), gr.Dropdown([\"GPT\", \"Claude\"], label = \"Select model\", value = \"GPT\")],\n",
    "    outputs = [gr.Markdown(label = \"Response:\")],\n",
    "    flagging_mode = \"never\"\n",
    ")\n",
    "view.launch()"
   ]
  }
 ],
 "metadata": {
  "kernelspec": {
   "display_name": "Python 3 (ipykernel)",
   "language": "python",
   "name": "python3"
  },
  "language_info": {
   "codemirror_mode": {
    "name": "ipython",
    "version": 3
   },
   "file_extension": ".py",
   "mimetype": "text/x-python",
   "name": "python",
   "nbconvert_exporter": "python",
   "pygments_lexer": "ipython3",
   "version": "3.11.13"
  }
 },
 "nbformat": 4,
 "nbformat_minor": 5
}
