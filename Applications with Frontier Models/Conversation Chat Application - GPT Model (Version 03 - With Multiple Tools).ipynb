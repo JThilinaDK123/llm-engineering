{
 "cells": [
  {
   "cell_type": "markdown",
   "id": "ddfa9ae6-69fe-444a-b994-8c4c5970a7ec",
   "metadata": {},
   "source": [
    "# Project - Airline AI Assistant\n"
   ]
  },
  {
   "cell_type": "code",
   "execution_count": 1,
   "id": "8b50bbe2-c0b1-49c3-9a5c-1ba7efa2bcb4",
   "metadata": {},
   "outputs": [],
   "source": [
    "import os\n",
    "import json\n",
    "from dotenv import load_dotenv\n",
    "from openai import OpenAI\n",
    "import gradio as gr"
   ]
  },
  {
   "cell_type": "code",
   "execution_count": 2,
   "id": "747e8786-9da8-4342-b6c9-f5f69c2e22ae",
   "metadata": {},
   "outputs": [
    {
     "name": "stdout",
     "output_type": "stream",
     "text": [
      "OpenAI API Key exists and begins sk-proj-\n"
     ]
    }
   ],
   "source": [
    "load_dotenv(override=True)\n",
    "\n",
    "openai_api_key = os.getenv('OPENAI_API_KEY')\n",
    "if openai_api_key:\n",
    "    print(f\"OpenAI API Key exists and begins {openai_api_key[:8]}\")\n",
    "else:\n",
    "    print(\"OpenAI API Key not set\")"
   ]
  },
  {
   "cell_type": "code",
   "execution_count": 3,
   "id": "6ff3eb18-814c-4030-965d-84359668d3d3",
   "metadata": {},
   "outputs": [],
   "source": [
    "MODEL = \"gpt-4o-mini\"\n",
    "openai = OpenAI()"
   ]
  },
  {
   "cell_type": "code",
   "execution_count": 4,
   "id": "0a521d84-d07c-49ab-a0df-d6451499ed97",
   "metadata": {},
   "outputs": [],
   "source": [
    "system_message = \"You are a helpful assistant for an Airline called FlightAI. \"\n",
    "system_message += \"You are travelling only to UK, France, Japan and Germany\"\n",
    "system_message += \"Give short, courteous answers, no more than 1 sentence. \"\n",
    "system_message += \"Always be accurate. If you don't know the answer, say so.\""
   ]
  },
  {
   "cell_type": "code",
   "execution_count": 5,
   "id": "61a2a15d-b559-4844-b377-6bd5cb4949f6",
   "metadata": {},
   "outputs": [],
   "source": [
    "def chat(message, history):\n",
    "    messages = [{\"role\": \"system\", \"content\": system_message}] + history + [{\"role\": \"user\", \"content\": message}]\n",
    "    response = openai.chat.completions.create(\n",
    "        model = MODEL, \n",
    "        messages = messages)\n",
    "    return response.choices[0].message.content\n",
    "\n",
    "# gr.ChatInterface(fn=chat, type=\"messages\").launch()"
   ]
  },
  {
   "cell_type": "markdown",
   "id": "36bedabf-a0a7-4985-ad8e-07ed6a55a3a4",
   "metadata": {},
   "source": [
    "## Tools"
   ]
  },
  {
   "cell_type": "code",
   "execution_count": 6,
   "id": "86866095-b6eb-4898-b84c-d634f3d58a15",
   "metadata": {},
   "outputs": [],
   "source": [
    "ticket_prices = {\"london\": \"$799\", \"paris\": \"$899\", \"tokyo\": \"$1400\", \"berlin\": \"$499\"}\n",
    "travelling_dates = {\"london\": \"Monday-Friday\", \"paris\": \"Only Sunday\", \"tokyo\": \"Monday-Friday\", \"berlin\": \"Weekends Only\"}\n",
    "\n",
    "def get_ticket_price(destination_city):\n",
    "    print(f\"Tool get_ticket_price called for {destination_city}\")\n",
    "    city = destination_city.lower()\n",
    "    return ticket_prices.get(city, \"Unknown\")\n",
    "\n",
    "def get_travelling_dates(destination_city):\n",
    "    print(f\"Tool get_travelling_dates called for {destination_city}\")\n",
    "    city = destination_city.lower()\n",
    "    return travelling_dates.get(city, \"Unknown\")"
   ]
  },
  {
   "cell_type": "code",
   "execution_count": 7,
   "id": "4afceded-7178-4c05-8fa6-9f2085e6a344",
   "metadata": {},
   "outputs": [],
   "source": [
    "price_function = {\n",
    "    \"type\": \"function\",\n",
    "    \"function\": {\n",
    "        \"name\": \"get_ticket_price\",\n",
    "        \"description\": \"Get the price of a return ticket to the destination city. Call this whenever a customer asks for the ticket price.\",\n",
    "        \"parameters\": {\n",
    "            \"type\": \"object\",\n",
    "            \"properties\": {\n",
    "                \"destination_city\": {\n",
    "                    \"type\": \"string\",\n",
    "                    \"description\": \"The city that the customer wants to travel to\",\n",
    "                },\n",
    "            },\n",
    "            \"required\": [\"destination_city\"],\n",
    "            \"additionalProperties\": False\n",
    "        }\n",
    "    }\n",
    "}\n",
    "\n",
    "Travelling_date_function = {\n",
    "    \"type\": \"function\",\n",
    "    \"function\": {\n",
    "        \"name\": \"get_travelling_dates\",\n",
    "        \"description\": \"Get the travelling dates to the destination city. Call this whenever a customer asks for available days/flights.\",\n",
    "        \"parameters\": {\n",
    "            \"type\": \"object\",\n",
    "            \"properties\": {\n",
    "                \"destination_city\": {\n",
    "                    \"type\": \"string\",\n",
    "                    \"description\": \"The city that the customer wants to travel to\",\n",
    "                },\n",
    "            },\n",
    "            \"required\": [\"destination_city\"],\n",
    "            \"additionalProperties\": False\n",
    "        }\n",
    "    }\n",
    "}"
   ]
  },
  {
   "cell_type": "code",
   "execution_count": 8,
   "id": "bdca8679-935f-4e7f-97e6-e71a4d4f228c",
   "metadata": {},
   "outputs": [],
   "source": [
    "TOOLS = [price_function, Travelling_date_function]\n",
    "PY_FUNCTIONS = {\n",
    "    \"get_ticket_price\": get_ticket_price,\n",
    "    \"get_travelling_dates\": get_travelling_dates,\n",
    "}"
   ]
  },
  {
   "cell_type": "code",
   "execution_count": 9,
   "id": "4ef99dd5-ed04-4de7-b277-7724df828381",
   "metadata": {},
   "outputs": [],
   "source": [
    "SYSTEM_PROMPT = \"\"\"You are a helpful travel agent.\n",
    "- If user asks about ticket prices or available days for a city, call the matching tool with the city name.\n",
    "- Combine results nicely if both price and dates are requested.\n",
    "- If a city is unsupported, say so and suggest supported cities (London, Paris, Tokyo, Berlin).\n",
    "\"\"\"\n",
    "\n",
    "def build_messages(history, user_msg):\n",
    "    msgs = [{\"role\": \"system\", \"content\": SYSTEM_PROMPT}]\n",
    "    for h_user, h_assistant in history:\n",
    "        if h_user:\n",
    "            msgs.append({\"role\": \"user\", \"content\": h_user})\n",
    "        if h_assistant:\n",
    "            msgs.append({\"role\": \"assistant\", \"content\": h_assistant})\n",
    "    msgs.append({\"role\": \"user\", \"content\": user_msg})\n",
    "\n",
    "    # msgs = [{\"role\": \"system\", \"content\": SYSTEM_PROMPT}] + history + [{\"role\": \"user\", \"content\": user_msg}]\n",
    "    return msgs"
   ]
  },
  {
   "cell_type": "code",
   "execution_count": 10,
   "id": "66c75527-5230-4b36-a5df-a069e0bf3be2",
   "metadata": {},
   "outputs": [],
   "source": [
    "def call_model_with_tools(messages):\n",
    "\n",
    "    ## Safety cap to avoid infinite loops in case of mis-config\n",
    "    for _ in range(5):\n",
    "        resp = openai.chat.completions.create(\n",
    "            model = MODEL,\n",
    "            messages = messages,\n",
    "            tools = TOOLS,\n",
    "            tool_choice = \"auto\",\n",
    "            temperature = 0.5,\n",
    "        )\n",
    "        msg = resp.choices[0].message\n",
    "\n",
    "        ## If the model requested one or more tools\n",
    "        if msg.tool_calls:\n",
    "            # Append the assistant message that *contains* the tool_calls\n",
    "            messages.append({\n",
    "                \"role\": \"assistant\",\n",
    "                \"content\": msg.content or \"\",\n",
    "                \"tool_calls\": [tc.model_dump() for tc in msg.tool_calls],\n",
    "            })\n",
    "\n",
    "            # For each tool_call, run the corresponding Python function and send back a tool message\n",
    "            for tool_call in msg.tool_calls:\n",
    "                name = tool_call.function.name\n",
    "                args = tool_call.function.arguments\n",
    "                try:\n",
    "                    parsed = json.loads(args) if isinstance(args, str) else args\n",
    "                except Exception:\n",
    "                    parsed = {}\n",
    "\n",
    "                fn = PY_FUNCTIONS.get(name)\n",
    "                if fn is None:\n",
    "                    tool_output = f\"Unknown tool: {name}\"\n",
    "                else:\n",
    "                    # Ensure destination_city is present\n",
    "                    dest = parsed.get(\"destination_city\", \"\") if isinstance(parsed, dict) else \"\"\n",
    "                    tool_output = fn(dest)\n",
    "\n",
    "                messages.append({\n",
    "                    \"role\": \"tool\",\n",
    "                    \"tool_call_id\": tool_call.id,\n",
    "                    \"name\": name,\n",
    "                    \"content\": json.dumps({\"result\": tool_output}),\n",
    "                })\n",
    "\n",
    "            continue\n",
    "\n",
    "        ## No tool calls -> final assistant answer\n",
    "        content = msg.content or \"\"\n",
    "        messages.append({\"role\": \"assistant\", \"content\": content})\n",
    "        return content\n",
    "\n",
    "    return \"Sorry, I couldn't complete that request.\""
   ]
  },
  {
   "cell_type": "code",
   "execution_count": 11,
   "id": "4504d106-cae1-4be6-9a97-742d6c4d539e",
   "metadata": {},
   "outputs": [],
   "source": [
    "def respond(user_message, history):\n",
    "    messages = build_messages(history, user_message)\n",
    "    final_text = call_model_with_tools(messages)\n",
    "    return final_text"
   ]
  },
  {
   "cell_type": "code",
   "execution_count": 12,
   "id": "e696c965-e331-4d49-826d-64c1624e8e62",
   "metadata": {},
   "outputs": [
    {
     "name": "stderr",
     "output_type": "stream",
     "text": [
      "/Users/thilina/anaconda3/envs/llms/lib/python3.11/site-packages/gradio/chat_interface.py:345: UserWarning: The 'tuples' format for chatbot messages is deprecated and will be removed in a future version of Gradio. Please set type='messages' instead, which uses openai-style 'role' and 'content' keys.\n",
      "  self.chatbot = Chatbot(\n"
     ]
    },
    {
     "name": "stdout",
     "output_type": "stream",
     "text": [
      "* Running on local URL:  http://127.0.0.1:7860\n",
      "* To create a public link, set `share=True` in `launch()`.\n"
     ]
    },
    {
     "data": {
      "text/html": [
       "<div><iframe src=\"http://127.0.0.1:7860/\" width=\"100%\" height=\"500\" allow=\"autoplay; camera; microphone; clipboard-read; clipboard-write;\" frameborder=\"0\" allowfullscreen></iframe></div>"
      ],
      "text/plain": [
       "<IPython.core.display.HTML object>"
      ]
     },
     "metadata": {},
     "output_type": "display_data"
    },
    {
     "data": {
      "text/plain": []
     },
     "execution_count": 12,
     "metadata": {},
     "output_type": "execute_result"
    }
   ],
   "source": [
    "demo = gr.ChatInterface(\n",
    "    fn = respond,\n",
    "    title = \"Travel Chat (Prices & Dates)\",\n",
    "    # description=\"Ask things like: 'How much is a ticket to Tokyo?' or 'When can I fly to Berlin?'.\",\n",
    "    cache_examples=False,\n",
    ")\n",
    "demo.launch()"
   ]
  },
  {
   "cell_type": "code",
   "execution_count": null,
   "id": "8eed1702-7312-43cf-bde3-b28479847393",
   "metadata": {},
   "outputs": [],
   "source": []
  }
 ],
 "metadata": {
  "kernelspec": {
   "display_name": "Python 3 (ipykernel)",
   "language": "python",
   "name": "python3"
  },
  "language_info": {
   "codemirror_mode": {
    "name": "ipython",
    "version": 3
   },
   "file_extension": ".py",
   "mimetype": "text/x-python",
   "name": "python",
   "nbconvert_exporter": "python",
   "pygments_lexer": "ipython3",
   "version": "3.11.13"
  }
 },
 "nbformat": 4,
 "nbformat_minor": 5
}
