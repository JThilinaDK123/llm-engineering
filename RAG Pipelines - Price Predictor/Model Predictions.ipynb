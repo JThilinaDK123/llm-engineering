{
 "cells": [
  {
   "cell_type": "code",
   "execution_count": 1,
   "id": "fbcdfea8-7241-46d7-a771-c0381a3e7063",
   "metadata": {},
   "outputs": [],
   "source": [
    "## imports\n",
    "import os\n",
    "import re\n",
    "import math\n",
    "import json\n",
    "from tqdm import tqdm\n",
    "import random\n",
    "from dotenv import load_dotenv\n",
    "from huggingface_hub import login\n",
    "import matplotlib.pyplot as plt\n",
    "import numpy as np\n",
    "from openai import OpenAI\n",
    "from sentence_transformers import SentenceTransformer\n",
    "from datasets import load_dataset\n",
    "import chromadb\n",
    "import gradio as gr"
   ]
  },
  {
   "cell_type": "code",
   "execution_count": 2,
   "id": "98666e73-938e-469d-8987-e6e55ba5e034",
   "metadata": {},
   "outputs": [],
   "source": [
    "load_dotenv(override=True)\n",
    "os.environ['OPENAI_API_KEY'] = os.getenv('OPENAI_API_KEY')\n",
    "os.environ['HF_TOKEN'] = os.getenv('HF_TOKEN')"
   ]
  },
  {
   "cell_type": "code",
   "execution_count": 3,
   "id": "ce73b034-9ec1-4533-ba41-3e57c7878b61",
   "metadata": {},
   "outputs": [
    {
     "name": "stderr",
     "output_type": "stream",
     "text": [
      "Note: Environment variable`HF_TOKEN` is set and is the current active token independently from the token you've just configured.\n"
     ]
    }
   ],
   "source": [
    "## Log in to HuggingFace\n",
    "hf_token = os.environ['HF_TOKEN']\n",
    "login(hf_token, add_to_git_credential=True)"
   ]
  },
  {
   "cell_type": "code",
   "execution_count": 4,
   "id": "9a25a5cf-8f6c-4b5d-ad98-fdd096f5adf8",
   "metadata": {},
   "outputs": [],
   "source": [
    "openai = OpenAI()"
   ]
  },
  {
   "cell_type": "markdown",
   "id": "22033368-6d7c-443e-9ffc-1c530dc09f4b",
   "metadata": {},
   "source": [
    "## Setup the system and user prompts"
   ]
  },
  {
   "cell_type": "code",
   "execution_count": 5,
   "id": "33d38a06-0c0d-4e96-94d1-35ee183416ce",
   "metadata": {},
   "outputs": [],
   "source": [
    "def make_context(similars, prices):\n",
    "    message = \"To provide some context, here are some other items that might be similar to the item you need to estimate.\\n\\n\"\n",
    "    for similar, price in zip(similars, prices):\n",
    "        message += f\"Potentially related product:\\n{similar}\\nPrice is ${price:.2f}\\n\\n\"\n",
    "    return message"
   ]
  },
  {
   "cell_type": "code",
   "execution_count": 6,
   "id": "61f203b7-63b6-48ed-869b-e393b5bfcad3",
   "metadata": {},
   "outputs": [],
   "source": [
    "def messages_for(item, similars, prices):\n",
    "    system_message = \"You estimate prices of items. Reply only with the price, no explanation\"\n",
    "    user_prompt = make_context(similars, prices)\n",
    "    user_prompt += \"And now the question for you:\\n\\n\"\n",
    "    user_prompt += \"How much does this cost?\\n\\n\" + item\n",
    "    return [\n",
    "        {\"role\": \"system\", \"content\": system_message},\n",
    "        {\"role\": \"user\", \"content\": user_prompt},\n",
    "        {\"role\": \"assistant\", \"content\": \"Price is $\"}\n",
    "    ]"
   ]
  },
  {
   "cell_type": "markdown",
   "id": "e50473e9-3f14-49fd-851a-8825bb19eb15",
   "metadata": {},
   "source": [
    "## Access the Vector Store"
   ]
  },
  {
   "cell_type": "code",
   "execution_count": 7,
   "id": "b26f405d-6e1f-4caa-b97f-1f62cd9d1ebc",
   "metadata": {},
   "outputs": [],
   "source": [
    "DB = \"vectorstore\""
   ]
  },
  {
   "cell_type": "code",
   "execution_count": 8,
   "id": "d26a1104-cd11-4361-ab25-85fb576e0582",
   "metadata": {},
   "outputs": [],
   "source": [
    "client = chromadb.PersistentClient(path = DB)\n",
    "collection = client.get_or_create_collection('products')"
   ]
  },
  {
   "cell_type": "code",
   "execution_count": 9,
   "id": "9f759bd2-7a7e-4c1a-80a0-e12470feca89",
   "metadata": {},
   "outputs": [],
   "source": [
    "model = SentenceTransformer('sentence-transformers/all-MiniLM-L6-v2')"
   ]
  },
  {
   "cell_type": "code",
   "execution_count": 10,
   "id": "e44dbd25-fb95-4b6b-bbbb-8da5fc817105",
   "metadata": {},
   "outputs": [],
   "source": [
    "def vector(item):\n",
    "    return model.encode([item])"
   ]
  },
  {
   "cell_type": "code",
   "execution_count": 11,
   "id": "ffd5ee47-db5d-4263-b0d9-80d568c91341",
   "metadata": {},
   "outputs": [],
   "source": [
    "def find_similars(item):\n",
    "    results = collection.query(query_embeddings=vector(item).astype(float).tolist(), n_results=5)\n",
    "    documents = results['documents'][0][:]\n",
    "    prices = [m['price'] for m in results['metadatas'][0][:]]\n",
    "    return documents, prices"
   ]
  },
  {
   "cell_type": "code",
   "execution_count": 12,
   "id": "0d838a50-10fc-42f9-949b-69148d085a39",
   "metadata": {},
   "outputs": [],
   "source": [
    "documents, prices = find_similars(\"iphone 16 pro 256 GB\")"
   ]
  },
  {
   "cell_type": "code",
   "execution_count": 13,
   "id": "0b81eca2-0b58-4fe8-9dd6-47f13ba5f8ee",
   "metadata": {
    "scrolled": true
   },
   "outputs": [
    {
     "name": "stdout",
     "output_type": "stream",
     "text": [
      "[{'role': 'system', 'content': 'You estimate prices of items. Reply only with the price, no explanation'}, {'role': 'user', 'content': 'To provide some context, here are some other items that might be similar to the item you need to estimate.\\n\\nPotentially related product:\\nUpgraded MOCREO Indoor Wireless Thermometer Hygrometer Sensor, Accessories, Accurate Temperature Humidity Monitor for Freezer Refrigerator Greenhouse Basement Home, MOCREO Hub Required\\nMOCREO Indoor Thermometer Hygrometer Sensor (needs to work with MOCREO Hub) with App Alerts, Accurate Temperature Humidity Monitor for Greenhouse Basement Home. Remotely Monitors and Alerts the Temperature and Humidity by Free iPhone/Android Apps, Monitor from Anywhere, Anytime Doesn’t Support 5G WiFi. WIFI Temp Gauge Humidity Sensor Monitor for Home, get exact temperature and humidity. Support storing temperature and humidity data for 2 years in Cloud and data exporting in CSV format for free. Historical data is displayed by a scalable curve graph on APP\\nPrice is $26.99\\n\\nPotentially related product:\\nOasis OH-31 Wireless Bluetooth Temperature/Humidity Sensor\\nOnce you have downloaded the App, place the sensor on the iPhone screen and press the + sign on the upper right corner of the screen to sync with the App. Set humidity/temperature limits and your smartphone will alert you if the readings are too high or low. The App can read up to 7 sensors and has a transmission range of over 100 feet.The App keeps track of your long-term humidity and temperature data by day, week, month and year. The data can be downloaded to your computer.Sensor comes with clip, so you can attach it to your instrument case. You will be notified of App updates automatically. Brand O Oasis, Dimensions LxWxH 1.6 x 1.6 x 0\\nPrice is $49.93\\n\\nPotentially related product:\\nProteus AMBIO - WiFi Temperature Humidity Sensor with Buzzer and Email/Text Alerts\\nCloud connected WiFi Temperature Humidity sensor with NO monthly charges Connects to your home or office wifi. No hub or gateway required. Sends alerts by email/ text messages to multiple phones and emails. Easy set up, plugs directly into wall outlet. Sensor sticks out 3 inches for improved accuracy. Contact us if you need longer sensor cable. Programmable smart buzzer can be turned off after few minutes to avoid prolonged beep noise Brand PROTEUS, Power Source Ac, Material Plastic, Style Modern, Color White, Dimensions LxWxH 2 x 3.5 x 3.5 inches, Are Batteries Included No, Dimensions 2 x 3.5 x \\nPrice is $99.00\\n\\nPotentially related product:\\nExtech SD700 Pressure, Humidity and Temperature Data Logger\\nExtech SD700 Pressure, Humidity and Temperature Data Logger Triple LCD simultaneously displays Barometric Pressure, Temperature, and Relative Humidity Datalogger date/time stamps and stores readings on an SD card in Excel format for easy transfer to a PC Displays Barometric Pressure in 3 units of measure hPa, mmHg, and inHg Selectable data sampling rate 5, 10, 30, 60, 120, 300, 600 seconds Is Discontinued No, Dimensions 5.2 x 3.1 x 1.3 inches; 9.88 Ounces, model number SD700, Batteries 6 AAA batteries required. (included), Available April 22, 201\\nPrice is $303.48\\n\\nPotentially related product:\\n3.2 Cu.Ft Mini Fridge with Freezer, Single Door Small Refrigerator, 6 Settings Mechanical Thermostat, One-Touch Defrosting System, Energy Saving, Dorm Refrigerator\\n🍋Space Saving Fridge with Large Capacity This mini fridge has a compact size of and provides an ample capacity of 3.2 Cu. Ft which can storage 80 cans maximumly. Besides, the removable shelf greatly expands the storage flexibility and simply your cleaning process, convenient for you whether you are in the office, dorm, or bedroom. 🍹6 Settings Adjustable Thermostat & Auto Defrost Comes with 6 temperature settings, 28.4 to 50℉, you can better store the beverages, vegetables, fruits and snacks in this compact refrigerator. And it\\nPrice is $189.99\\n\\nAnd now the question for you:\\n\\nHow much does this cost?\\n\\nIphone 16 pro 128 GB'}, {'role': 'assistant', 'content': 'Price is $'}]\n"
     ]
    }
   ],
   "source": [
    "print(messages_for(\"Iphone 16 pro 128 GB\", documents, prices))"
   ]
  },
  {
   "cell_type": "code",
   "execution_count": 14,
   "id": "d11f1c8d-7480-4d64-a274-b030d701f1b8",
   "metadata": {},
   "outputs": [],
   "source": [
    "def get_price(s):\n",
    "    s = s.replace('$','').replace(',','')\n",
    "    match = re.search(r\"[-+]?\\d*\\.\\d+|\\d+\", s)\n",
    "    return str(match.group()) if match else 0 ## This should be string (if we want to show output in a gradio dashboard)"
   ]
  },
  {
   "cell_type": "markdown",
   "id": "e4f89736-26e9-4939-bb11-af16ab076366",
   "metadata": {},
   "source": [
    "## GPT 4o Mini Model"
   ]
  },
  {
   "cell_type": "code",
   "execution_count": 15,
   "id": "a919cf7d-b3d3-4968-8c96-54a0da0b0219",
   "metadata": {},
   "outputs": [],
   "source": [
    "def gpt_4o_mini_rag(item):\n",
    "    documents, prices = find_similars(item)\n",
    "    response = openai.chat.completions.create(\n",
    "        model = \"gpt-4o-mini\", \n",
    "        messages = messages_for(item, documents, prices),\n",
    "        seed = 42,\n",
    "        max_tokens = 5\n",
    "    )\n",
    "    reply = response.choices[0].message.content\n",
    "    return get_price(reply)"
   ]
  },
  {
   "cell_type": "code",
   "execution_count": 16,
   "id": "3e519e26-ff15-4425-90bb-bfbf55deb39b",
   "metadata": {},
   "outputs": [
    {
     "data": {
      "text/plain": [
       "'999.00'"
      ]
     },
     "execution_count": 16,
     "metadata": {},
     "output_type": "execute_result"
    }
   ],
   "source": [
    "gpt_4o_mini_rag(\"Iphone 16 pro 128 GB\")"
   ]
  },
  {
   "cell_type": "code",
   "execution_count": 17,
   "id": "7e153982-be69-457e-9ffa-e6ba7fd4e6eb",
   "metadata": {},
   "outputs": [
    {
     "name": "stdout",
     "output_type": "stream",
     "text": [
      "* Running on local URL:  http://127.0.0.1:7860\n",
      "* To create a public link, set `share=True` in `launch()`.\n"
     ]
    },
    {
     "data": {
      "text/html": [
       "<div><iframe src=\"http://127.0.0.1:7860/\" width=\"100%\" height=\"500\" allow=\"autoplay; camera; microphone; clipboard-read; clipboard-write;\" frameborder=\"0\" allowfullscreen></iframe></div>"
      ],
      "text/plain": [
       "<IPython.core.display.HTML object>"
      ]
     },
     "metadata": {},
     "output_type": "display_data"
    },
    {
     "data": {
      "text/plain": []
     },
     "execution_count": 17,
     "metadata": {},
     "output_type": "execute_result"
    }
   ],
   "source": [
    "view = gr.Interface(\n",
    "    fn = gpt_4o_mini_rag,\n",
    "    inputs = [gr.Textbox(label=\"Item Description:\")],\n",
    "    outputs = [gr.Textbox(label = \"Price:\")],\n",
    "    flagging_mode = \"never\"\n",
    ")\n",
    "view.launch()"
   ]
  },
  {
   "cell_type": "markdown",
   "id": "f6f29e00-b6e7-49ec-95da-3eb8bde09265",
   "metadata": {},
   "source": [
    "## Create an \"Agent\" class"
   ]
  },
  {
   "cell_type": "code",
   "execution_count": 18,
   "id": "0ca2db5a-8a2f-4f5e-a280-d32da345b2f9",
   "metadata": {},
   "outputs": [],
   "source": [
    "from agents.frontier_agent import FrontierAgent"
   ]
  },
  {
   "cell_type": "code",
   "execution_count": 19,
   "id": "0b43e0a2-f664-43ce-9e84-b335611ae073",
   "metadata": {},
   "outputs": [],
   "source": [
    "import logging\n",
    "root = logging.getLogger()\n",
    "root.setLevel(logging.INFO)"
   ]
  },
  {
   "cell_type": "code",
   "execution_count": 20,
   "id": "3eb3b432-0575-4c09-ac76-395275487b28",
   "metadata": {},
   "outputs": [
    {
     "name": "stderr",
     "output_type": "stream",
     "text": [
      "INFO:root:\u001b[40m\u001b[34m[Frontier Agent] Initializing Frontier Agent\u001b[0m\n",
      "INFO:root:\u001b[40m\u001b[34m[Frontier Agent] Frontier Agent is setting up with OpenAI\u001b[0m\n",
      "INFO:sentence_transformers.SentenceTransformer:Use pytorch device_name: mps\n",
      "INFO:sentence_transformers.SentenceTransformer:Load pretrained SentenceTransformer: sentence-transformers/all-MiniLM-L6-v2\n",
      "INFO:root:\u001b[40m\u001b[34m[Frontier Agent] Frontier Agent is ready\u001b[0m\n"
     ]
    }
   ],
   "source": [
    "agent = FrontierAgent(collection)"
   ]
  },
  {
   "cell_type": "code",
   "execution_count": 21,
   "id": "dcc31964-9f85-49b2-accd-c8160181f753",
   "metadata": {},
   "outputs": [
    {
     "name": "stderr",
     "output_type": "stream",
     "text": [
      "INFO:root:\u001b[40m\u001b[34m[Frontier Agent] Frontier Agent is performing a RAG search of the Chroma datastore to find 5 similar products\u001b[0m\n"
     ]
    },
    {
     "data": {
      "application/vnd.jupyter.widget-view+json": {
       "model_id": "d4ae289fc27c41d2ae647bfcb2ac1fa8",
       "version_major": 2,
       "version_minor": 0
      },
      "text/plain": [
       "Batches:   0%|          | 0/1 [00:00<?, ?it/s]"
      ]
     },
     "metadata": {},
     "output_type": "display_data"
    },
    {
     "name": "stderr",
     "output_type": "stream",
     "text": [
      "INFO:root:\u001b[40m\u001b[34m[Frontier Agent] Frontier Agent has found similar products\u001b[0m\n",
      "INFO:root:\u001b[40m\u001b[34m[Frontier Agent] Frontier Agent is about to call gpt-4o-mini with context including 5 similar products\u001b[0m\n",
      "INFO:httpx:HTTP Request: POST https://api.openai.com/v1/chat/completions \"HTTP/1.1 200 OK\"\n",
      "INFO:root:\u001b[40m\u001b[34m[Frontier Agent] Frontier Agent completed - predicting $999.00\u001b[0m\n"
     ]
    },
    {
     "data": {
      "text/plain": [
       "999.0"
      ]
     },
     "execution_count": 21,
     "metadata": {},
     "output_type": "execute_result"
    }
   ],
   "source": [
    "agent.price(\"Iphone 16 pro 128 GB\")"
   ]
  },
  {
   "cell_type": "code",
   "execution_count": null,
   "id": "506b9602-c9e5-48cc-a1bd-9c577b9ee1f0",
   "metadata": {},
   "outputs": [],
   "source": []
  }
 ],
 "metadata": {
  "kernelspec": {
   "display_name": "Python 3 (ipykernel)",
   "language": "python",
   "name": "python3"
  },
  "language_info": {
   "codemirror_mode": {
    "name": "ipython",
    "version": 3
   },
   "file_extension": ".py",
   "mimetype": "text/x-python",
   "name": "python",
   "nbconvert_exporter": "python",
   "pygments_lexer": "ipython3",
   "version": "3.11.13"
  }
 },
 "nbformat": 4,
 "nbformat_minor": 5
}
